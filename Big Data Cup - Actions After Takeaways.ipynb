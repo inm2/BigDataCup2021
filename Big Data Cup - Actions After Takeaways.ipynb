{
 "cells": [
  {
   "cell_type": "markdown",
   "metadata": {},
   "source": [
    "# Where Do Goals Come From: Takeaways"
   ]
  },
  {
   "cell_type": "code",
   "execution_count": 2,
   "metadata": {},
   "outputs": [],
   "source": [
    "#Import Libraries\n",
    "import pandas as pd\n",
    "import matplotlib.pyplot as plt\n",
    "import seaborn as sns\n",
    "import numpy as np"
   ]
  },
  {
   "cell_type": "code",
   "execution_count": 31,
   "metadata": {},
   "outputs": [
    {
     "data": {
      "text/plain": [
       "<AxesSubplot:title={'center':'Time to Goal After Takeaway'}, xlabel='Time (seconds)', ylabel='Number of Occurrences'>"
      ]
     },
     "execution_count": 31,
     "metadata": {},
     "output_type": "execute_result"
    },
    {
     "data": {
      "image/png": "[encoded data removed]",
      "text/plain": [
       "<Figure size 432x288 with 1 Axes>"
      ]
     },
     "metadata": {
      "needs_background": "light"
     },
     "output_type": "display_data"
    }
   ],
   "source": [
    "#Time to goal (in seconds) after Takeaway\n",
    "timeocc = pd.read_csv('Time Occurrences.csv')\n",
    "timeocc['Occurrences'].plot(kind='bar', title='Time to Goal After Takeaway', xlabel=\"Time (seconds)\", \n",
    "                            ylabel= \"Number of Occurrences\")"
   ]
  },
  {
   "cell_type": "code",
   "execution_count": 34,
   "metadata": {},
   "outputs": [
    {
     "data": {
      "text/plain": [
       "<AxesSubplot:title={'center':'Sequences to Goal After Takeaway'}, xlabel='Sequence Number', ylabel='Number of Occurrences'>"
      ]
     },
     "execution_count": 34,
     "metadata": {},
     "output_type": "execute_result"
    },
    {
     "data": {
      "image/png": "[encoded data removed]",
      "text/plain": [
       "<Figure size 432x288 with 1 Axes>"
      ]
     },
     "metadata": {
      "needs_background": "light"
     },
     "output_type": "display_data"
    }
   ],
   "source": [
    "#Event occurrences after Takeaway\n",
    "flow = pd.read_csv('Flow List.csv')\n",
    "flow['Occurrences'].plot(kind='bar', title='Sequences to Goal After Takeaway', xlabel=\"Sequence Number\", \n",
    "                            ylabel= \"Number of Occurrences\")"
   ]
  },
  {
   "cell_type": "code",
   "execution_count": 4,
   "metadata": {},
   "outputs": [
    {
     "data": {
      "text/html": [
       "<div>\n",
       "<style scoped>\n",
       "    .dataframe tbody tr th:only-of-type {\n",
       "        vertical-align: middle;\n",
       "    }\n",
       "\n",
       "    .dataframe tbody tr th {\n",
       "        vertical-align: top;\n",
       "    }\n",
       "\n",
       "    .dataframe thead th {\n",
       "        text-align: right;\n",
       "    }\n",
       "</style>\n",
       "<table border=\"1\" class=\"dataframe\">\n",
       "  <thead>\n",
       "    <tr style=\"text-align: right;\">\n",
       "      <th></th>\n",
       "      <th>Unnamed: 0</th>\n",
       "      <th>Unnamed: 0.1</th>\n",
       "      <th>game_date</th>\n",
       "      <th>Home Team</th>\n",
       "      <th>Away Team</th>\n",
       "      <th>Period</th>\n",
       "      <th>Clock</th>\n",
       "      <th>Home Team Skaters</th>\n",
       "      <th>Away Team Skaters</th>\n",
       "      <th>Home Team Goals</th>\n",
       "      <th>...</th>\n",
       "      <th>events_Play</th>\n",
       "      <th>events_Puck Recovery</th>\n",
       "      <th>events_Shot</th>\n",
       "      <th>events_Takeaway</th>\n",
       "      <th>events_Zone Entry</th>\n",
       "      <th>zones_Def. Board</th>\n",
       "      <th>zones_Def. Zone</th>\n",
       "      <th>zones_Neutral</th>\n",
       "      <th>zones_Off. Board</th>\n",
       "      <th>zones_Off. Zone</th>\n",
       "    </tr>\n",
       "  </thead>\n",
       "  <tbody>\n",
       "    <tr>\n",
       "      <th>0</th>\n",
       "      <td>0</td>\n",
       "      <td>0</td>\n",
       "      <td>2019-09-20</td>\n",
       "      <td>Erie Otters</td>\n",
       "      <td>Sudbury Wolves</td>\n",
       "      <td>1</td>\n",
       "      <td>20:00</td>\n",
       "      <td>5</td>\n",
       "      <td>5</td>\n",
       "      <td>0</td>\n",
       "      <td>...</td>\n",
       "      <td>0.0</td>\n",
       "      <td>0.0</td>\n",
       "      <td>0.0</td>\n",
       "      <td>0.0</td>\n",
       "      <td>0.0</td>\n",
       "      <td>0.0</td>\n",
       "      <td>0.0</td>\n",
       "      <td>1.0</td>\n",
       "      <td>0.0</td>\n",
       "      <td>0.0</td>\n",
       "    </tr>\n",
       "    <tr>\n",
       "      <th>1</th>\n",
       "      <td>1</td>\n",
       "      <td>1</td>\n",
       "      <td>2019-09-20</td>\n",
       "      <td>Erie Otters</td>\n",
       "      <td>Sudbury Wolves</td>\n",
       "      <td>1</td>\n",
       "      <td>19:58</td>\n",
       "      <td>5</td>\n",
       "      <td>5</td>\n",
       "      <td>0</td>\n",
       "      <td>...</td>\n",
       "      <td>0.0</td>\n",
       "      <td>1.0</td>\n",
       "      <td>0.0</td>\n",
       "      <td>0.0</td>\n",
       "      <td>0.0</td>\n",
       "      <td>0.0</td>\n",
       "      <td>1.0</td>\n",
       "      <td>0.0</td>\n",
       "      <td>0.0</td>\n",
       "      <td>0.0</td>\n",
       "    </tr>\n",
       "    <tr>\n",
       "      <th>2</th>\n",
       "      <td>2</td>\n",
       "      <td>2</td>\n",
       "      <td>2019-09-20</td>\n",
       "      <td>Erie Otters</td>\n",
       "      <td>Sudbury Wolves</td>\n",
       "      <td>1</td>\n",
       "      <td>19:53</td>\n",
       "      <td>5</td>\n",
       "      <td>5</td>\n",
       "      <td>0</td>\n",
       "      <td>...</td>\n",
       "      <td>0.0</td>\n",
       "      <td>0.0</td>\n",
       "      <td>0.0</td>\n",
       "      <td>0.0</td>\n",
       "      <td>0.0</td>\n",
       "      <td>0.0</td>\n",
       "      <td>1.0</td>\n",
       "      <td>0.0</td>\n",
       "      <td>0.0</td>\n",
       "      <td>0.0</td>\n",
       "    </tr>\n",
       "    <tr>\n",
       "      <th>3</th>\n",
       "      <td>3</td>\n",
       "      <td>3</td>\n",
       "      <td>2019-09-20</td>\n",
       "      <td>Erie Otters</td>\n",
       "      <td>Sudbury Wolves</td>\n",
       "      <td>1</td>\n",
       "      <td>19:52</td>\n",
       "      <td>5</td>\n",
       "      <td>5</td>\n",
       "      <td>0</td>\n",
       "      <td>...</td>\n",
       "      <td>0.0</td>\n",
       "      <td>1.0</td>\n",
       "      <td>0.0</td>\n",
       "      <td>0.0</td>\n",
       "      <td>0.0</td>\n",
       "      <td>0.0</td>\n",
       "      <td>0.0</td>\n",
       "      <td>1.0</td>\n",
       "      <td>0.0</td>\n",
       "      <td>0.0</td>\n",
       "    </tr>\n",
       "    <tr>\n",
       "      <th>4</th>\n",
       "      <td>4</td>\n",
       "      <td>4</td>\n",
       "      <td>2019-09-20</td>\n",
       "      <td>Erie Otters</td>\n",
       "      <td>Sudbury Wolves</td>\n",
       "      <td>1</td>\n",
       "      <td>19:51</td>\n",
       "      <td>5</td>\n",
       "      <td>5</td>\n",
       "      <td>0</td>\n",
       "      <td>...</td>\n",
       "      <td>0.0</td>\n",
       "      <td>0.0</td>\n",
       "      <td>0.0</td>\n",
       "      <td>0.0</td>\n",
       "      <td>0.0</td>\n",
       "      <td>0.0</td>\n",
       "      <td>0.0</td>\n",
       "      <td>1.0</td>\n",
       "      <td>0.0</td>\n",
       "      <td>0.0</td>\n",
       "    </tr>\n",
       "    <tr>\n",
       "      <th>...</th>\n",
       "      <td>...</td>\n",
       "      <td>...</td>\n",
       "      <td>...</td>\n",
       "      <td>...</td>\n",
       "      <td>...</td>\n",
       "      <td>...</td>\n",
       "      <td>...</td>\n",
       "      <td>...</td>\n",
       "      <td>...</td>\n",
       "      <td>...</td>\n",
       "      <td>...</td>\n",
       "      <td>...</td>\n",
       "      <td>...</td>\n",
       "      <td>...</td>\n",
       "      <td>...</td>\n",
       "      <td>...</td>\n",
       "      <td>...</td>\n",
       "      <td>...</td>\n",
       "      <td>...</td>\n",
       "      <td>...</td>\n",
       "      <td>...</td>\n",
       "    </tr>\n",
       "    <tr>\n",
       "      <th>75868</th>\n",
       "      <td>75868</td>\n",
       "      <td>75868</td>\n",
       "      <td>2020-03-08</td>\n",
       "      <td>Erie Otters</td>\n",
       "      <td>Saginaw Spirit</td>\n",
       "      <td>3</td>\n",
       "      <td>0:07</td>\n",
       "      <td>6</td>\n",
       "      <td>5</td>\n",
       "      <td>3</td>\n",
       "      <td>...</td>\n",
       "      <td>0.0</td>\n",
       "      <td>1.0</td>\n",
       "      <td>0.0</td>\n",
       "      <td>0.0</td>\n",
       "      <td>0.0</td>\n",
       "      <td>0.0</td>\n",
       "      <td>0.0</td>\n",
       "      <td>0.0</td>\n",
       "      <td>0.0</td>\n",
       "      <td>1.0</td>\n",
       "    </tr>\n",
       "    <tr>\n",
       "      <th>75869</th>\n",
       "      <td>75869</td>\n",
       "      <td>75869</td>\n",
       "      <td>2020-03-08</td>\n",
       "      <td>Erie Otters</td>\n",
       "      <td>Saginaw Spirit</td>\n",
       "      <td>3</td>\n",
       "      <td>0:06</td>\n",
       "      <td>6</td>\n",
       "      <td>5</td>\n",
       "      <td>3</td>\n",
       "      <td>...</td>\n",
       "      <td>1.0</td>\n",
       "      <td>0.0</td>\n",
       "      <td>0.0</td>\n",
       "      <td>0.0</td>\n",
       "      <td>0.0</td>\n",
       "      <td>0.0</td>\n",
       "      <td>0.0</td>\n",
       "      <td>0.0</td>\n",
       "      <td>0.0</td>\n",
       "      <td>1.0</td>\n",
       "    </tr>\n",
       "    <tr>\n",
       "      <th>75870</th>\n",
       "      <td>75870</td>\n",
       "      <td>75870</td>\n",
       "      <td>2020-03-08</td>\n",
       "      <td>Erie Otters</td>\n",
       "      <td>Saginaw Spirit</td>\n",
       "      <td>3</td>\n",
       "      <td>0:04</td>\n",
       "      <td>6</td>\n",
       "      <td>5</td>\n",
       "      <td>3</td>\n",
       "      <td>...</td>\n",
       "      <td>1.0</td>\n",
       "      <td>0.0</td>\n",
       "      <td>0.0</td>\n",
       "      <td>0.0</td>\n",
       "      <td>0.0</td>\n",
       "      <td>0.0</td>\n",
       "      <td>0.0</td>\n",
       "      <td>0.0</td>\n",
       "      <td>1.0</td>\n",
       "      <td>0.0</td>\n",
       "    </tr>\n",
       "    <tr>\n",
       "      <th>75871</th>\n",
       "      <td>75871</td>\n",
       "      <td>75871</td>\n",
       "      <td>2020-03-08</td>\n",
       "      <td>Erie Otters</td>\n",
       "      <td>Saginaw Spirit</td>\n",
       "      <td>3</td>\n",
       "      <td>0:03</td>\n",
       "      <td>6</td>\n",
       "      <td>5</td>\n",
       "      <td>3</td>\n",
       "      <td>...</td>\n",
       "      <td>0.0</td>\n",
       "      <td>0.0</td>\n",
       "      <td>1.0</td>\n",
       "      <td>0.0</td>\n",
       "      <td>0.0</td>\n",
       "      <td>0.0</td>\n",
       "      <td>0.0</td>\n",
       "      <td>0.0</td>\n",
       "      <td>0.0</td>\n",
       "      <td>1.0</td>\n",
       "    </tr>\n",
       "    <tr>\n",
       "      <th>75872</th>\n",
       "      <td>75872</td>\n",
       "      <td>75872</td>\n",
       "      <td>2020-03-08</td>\n",
       "      <td>Erie Otters</td>\n",
       "      <td>Saginaw Spirit</td>\n",
       "      <td>3</td>\n",
       "      <td>0:01</td>\n",
       "      <td>6</td>\n",
       "      <td>5</td>\n",
       "      <td>3</td>\n",
       "      <td>...</td>\n",
       "      <td>0.0</td>\n",
       "      <td>1.0</td>\n",
       "      <td>0.0</td>\n",
       "      <td>0.0</td>\n",
       "      <td>0.0</td>\n",
       "      <td>0.0</td>\n",
       "      <td>0.0</td>\n",
       "      <td>0.0</td>\n",
       "      <td>0.0</td>\n",
       "      <td>1.0</td>\n",
       "    </tr>\n",
       "  </tbody>\n",
       "</table>\n",
       "<p>75873 rows × 52 columns</p>\n",
       "</div>"
      ],
      "text/plain": [
       "       Unnamed: 0  Unnamed: 0.1   game_date    Home Team       Away Team  \\\n",
       "0               0             0  2019-09-20  Erie Otters  Sudbury Wolves   \n",
       "1               1             1  2019-09-20  Erie Otters  Sudbury Wolves   \n",
       "2               2             2  2019-09-20  Erie Otters  Sudbury Wolves   \n",
       "3               3             3  2019-09-20  Erie Otters  Sudbury Wolves   \n",
       "4               4             4  2019-09-20  Erie Otters  Sudbury Wolves   \n",
       "...           ...           ...         ...          ...             ...   \n",
       "75868       75868         75868  2020-03-08  Erie Otters  Saginaw Spirit   \n",
       "75869       75869         75869  2020-03-08  Erie Otters  Saginaw Spirit   \n",
       "75870       75870         75870  2020-03-08  Erie Otters  Saginaw Spirit   \n",
       "75871       75871         75871  2020-03-08  Erie Otters  Saginaw Spirit   \n",
       "75872       75872         75872  2020-03-08  Erie Otters  Saginaw Spirit   \n",
       "\n",
       "       Period  Clock  Home Team Skaters  Away Team Skaters  Home Team Goals  \\\n",
       "0           1  20:00                  5                  5                0   \n",
       "1           1  19:58                  5                  5                0   \n",
       "2           1  19:53                  5                  5                0   \n",
       "3           1  19:52                  5                  5                0   \n",
       "4           1  19:51                  5                  5                0   \n",
       "...       ...    ...                ...                ...              ...   \n",
       "75868       3   0:07                  6                  5                3   \n",
       "75869       3   0:06                  6                  5                3   \n",
       "75870       3   0:04                  6                  5                3   \n",
       "75871       3   0:03                  6                  5                3   \n",
       "75872       3   0:01                  6                  5                3   \n",
       "\n",
       "       ...  events_Play events_Puck Recovery events_Shot events_Takeaway  \\\n",
       "0      ...          0.0                  0.0         0.0             0.0   \n",
       "1      ...          0.0                  1.0         0.0             0.0   \n",
       "2      ...          0.0                  0.0         0.0             0.0   \n",
       "3      ...          0.0                  1.0         0.0             0.0   \n",
       "4      ...          0.0                  0.0         0.0             0.0   \n",
       "...    ...          ...                  ...         ...             ...   \n",
       "75868  ...          0.0                  1.0         0.0             0.0   \n",
       "75869  ...          1.0                  0.0         0.0             0.0   \n",
       "75870  ...          1.0                  0.0         0.0             0.0   \n",
       "75871  ...          0.0                  0.0         1.0             0.0   \n",
       "75872  ...          0.0                  1.0         0.0             0.0   \n",
       "\n",
       "       events_Zone Entry  zones_Def. Board zones_Def. Zone zones_Neutral  \\\n",
       "0                    0.0               0.0             0.0           1.0   \n",
       "1                    0.0               0.0             1.0           0.0   \n",
       "2                    0.0               0.0             1.0           0.0   \n",
       "3                    0.0               0.0             0.0           1.0   \n",
       "4                    0.0               0.0             0.0           1.0   \n",
       "...                  ...               ...             ...           ...   \n",
       "75868                0.0               0.0             0.0           0.0   \n",
       "75869                0.0               0.0             0.0           0.0   \n",
       "75870                0.0               0.0             0.0           0.0   \n",
       "75871                0.0               0.0             0.0           0.0   \n",
       "75872                0.0               0.0             0.0           0.0   \n",
       "\n",
       "      zones_Off. Board zones_Off. Zone  \n",
       "0                  0.0             0.0  \n",
       "1                  0.0             0.0  \n",
       "2                  0.0             0.0  \n",
       "3                  0.0             0.0  \n",
       "4                  0.0             0.0  \n",
       "...                ...             ...  \n",
       "75868              0.0             1.0  \n",
       "75869              0.0             1.0  \n",
       "75870              1.0             0.0  \n",
       "75871              0.0             1.0  \n",
       "75872              0.0             1.0  \n",
       "\n",
       "[75873 rows x 52 columns]"
      ]
     },
     "execution_count": 4,
     "metadata": {},
     "output_type": "execute_result"
    }
   ],
   "source": [
    "scout = pd.read_csv(\"ScoutSavePoint.csv\")\n",
    "scout"
   ]
  },
  {
   "cell_type": "code",
   "execution_count": 5,
   "metadata": {},
   "outputs": [],
   "source": [
    "#Getting Time\n",
    "\n",
    "#Create Conditions to make sure values from periods don't overlap\n",
    "conditions = [(scout[\"Period\"] == 1), (scout[\"Period\"] == 2), (scout[\"Period\"] == 3)]\n",
    "\n",
    "#Adding hours to make sure clock time can be converted to timedeltas\n",
    "#scout[\"Clock\"] = \"00:\" + scout[\"Clock\"].astype(str)\n",
    "#Convert to timedeltas then the seconds\n",
    "z = pd.to_timedelta('00:' + scout[\"Clock\"])\n",
    "z = z.dt.total_seconds()\n",
    "z_difference = abs(z.diff())\n",
    "values = [abs(z.diff()), abs(z.diff()), abs(z.diff())]\n",
    "\n",
    "#Adding a new column with second differences\n",
    "scout[\"Time_Delta\"] = np.select(conditions, values)\n",
    "\n",
    "#Fill original NA value as 0\n",
    "scout[\"Time_Delta\"].fillna(0, inplace=True)\n",
    "\n",
    "#To get change in time after X event, just add the times after the first event\n",
    "scout['Time_DeltaN1'] = scout['Time_Delta'].shift(-1) #This one is normal\n",
    "scout['Time_DeltaN2'] = scout['Time_DeltaN1'] + scout['Time_Delta'].shift(-2)\n",
    "scout['Time_DeltaN3'] = scout['Time_DeltaN2'] + scout['Time_Delta'].shift(-3)\n",
    "scout['Time_DeltaN4'] = scout['Time_DeltaN3'] + scout['Time_Delta'].shift(-4)\n",
    "scout['Time_DeltaN5'] = scout['Time_DeltaN4'] + scout['Time_Delta'].shift(-5)"
   ]
  },
  {
   "cell_type": "code",
   "execution_count": 6,
   "metadata": {},
   "outputs": [
    {
     "data": {
      "text/html": [
       "<div>\n",
       "<style scoped>\n",
       "    .dataframe tbody tr th:only-of-type {\n",
       "        vertical-align: middle;\n",
       "    }\n",
       "\n",
       "    .dataframe tbody tr th {\n",
       "        vertical-align: top;\n",
       "    }\n",
       "\n",
       "    .dataframe thead th {\n",
       "        text-align: right;\n",
       "    }\n",
       "</style>\n",
       "<table border=\"1\" class=\"dataframe\">\n",
       "  <thead>\n",
       "    <tr style=\"text-align: right;\">\n",
       "      <th></th>\n",
       "      <th>Time_Delta</th>\n",
       "      <th>Time_DeltaN1</th>\n",
       "      <th>Time_DeltaN2</th>\n",
       "      <th>Time_DeltaN3</th>\n",
       "      <th>Time_DeltaN4</th>\n",
       "      <th>Time_DeltaN5</th>\n",
       "    </tr>\n",
       "  </thead>\n",
       "  <tbody>\n",
       "    <tr>\n",
       "      <th>0</th>\n",
       "      <td>0.0</td>\n",
       "      <td>2.0</td>\n",
       "      <td>7.0</td>\n",
       "      <td>8.0</td>\n",
       "      <td>9.0</td>\n",
       "      <td>12.0</td>\n",
       "    </tr>\n",
       "    <tr>\n",
       "      <th>1</th>\n",
       "      <td>2.0</td>\n",
       "      <td>5.0</td>\n",
       "      <td>6.0</td>\n",
       "      <td>7.0</td>\n",
       "      <td>10.0</td>\n",
       "      <td>13.0</td>\n",
       "    </tr>\n",
       "    <tr>\n",
       "      <th>2</th>\n",
       "      <td>5.0</td>\n",
       "      <td>1.0</td>\n",
       "      <td>2.0</td>\n",
       "      <td>5.0</td>\n",
       "      <td>8.0</td>\n",
       "      <td>14.0</td>\n",
       "    </tr>\n",
       "    <tr>\n",
       "      <th>3</th>\n",
       "      <td>1.0</td>\n",
       "      <td>1.0</td>\n",
       "      <td>4.0</td>\n",
       "      <td>7.0</td>\n",
       "      <td>13.0</td>\n",
       "      <td>14.0</td>\n",
       "    </tr>\n",
       "    <tr>\n",
       "      <th>4</th>\n",
       "      <td>1.0</td>\n",
       "      <td>3.0</td>\n",
       "      <td>6.0</td>\n",
       "      <td>12.0</td>\n",
       "      <td>13.0</td>\n",
       "      <td>15.0</td>\n",
       "    </tr>\n",
       "    <tr>\n",
       "      <th>5</th>\n",
       "      <td>3.0</td>\n",
       "      <td>3.0</td>\n",
       "      <td>9.0</td>\n",
       "      <td>10.0</td>\n",
       "      <td>12.0</td>\n",
       "      <td>12.0</td>\n",
       "    </tr>\n",
       "    <tr>\n",
       "      <th>6</th>\n",
       "      <td>3.0</td>\n",
       "      <td>6.0</td>\n",
       "      <td>7.0</td>\n",
       "      <td>9.0</td>\n",
       "      <td>9.0</td>\n",
       "      <td>13.0</td>\n",
       "    </tr>\n",
       "    <tr>\n",
       "      <th>7</th>\n",
       "      <td>6.0</td>\n",
       "      <td>1.0</td>\n",
       "      <td>3.0</td>\n",
       "      <td>3.0</td>\n",
       "      <td>7.0</td>\n",
       "      <td>7.0</td>\n",
       "    </tr>\n",
       "    <tr>\n",
       "      <th>8</th>\n",
       "      <td>1.0</td>\n",
       "      <td>2.0</td>\n",
       "      <td>2.0</td>\n",
       "      <td>6.0</td>\n",
       "      <td>6.0</td>\n",
       "      <td>8.0</td>\n",
       "    </tr>\n",
       "    <tr>\n",
       "      <th>9</th>\n",
       "      <td>2.0</td>\n",
       "      <td>0.0</td>\n",
       "      <td>4.0</td>\n",
       "      <td>4.0</td>\n",
       "      <td>6.0</td>\n",
       "      <td>9.0</td>\n",
       "    </tr>\n",
       "  </tbody>\n",
       "</table>\n",
       "</div>"
      ],
      "text/plain": [
       "   Time_Delta  Time_DeltaN1  Time_DeltaN2  Time_DeltaN3  Time_DeltaN4  \\\n",
       "0         0.0           2.0           7.0           8.0           9.0   \n",
       "1         2.0           5.0           6.0           7.0          10.0   \n",
       "2         5.0           1.0           2.0           5.0           8.0   \n",
       "3         1.0           1.0           4.0           7.0          13.0   \n",
       "4         1.0           3.0           6.0          12.0          13.0   \n",
       "5         3.0           3.0           9.0          10.0          12.0   \n",
       "6         3.0           6.0           7.0           9.0           9.0   \n",
       "7         6.0           1.0           3.0           3.0           7.0   \n",
       "8         1.0           2.0           2.0           6.0           6.0   \n",
       "9         2.0           0.0           4.0           4.0           6.0   \n",
       "\n",
       "   Time_DeltaN5  \n",
       "0          12.0  \n",
       "1          13.0  \n",
       "2          14.0  \n",
       "3          14.0  \n",
       "4          15.0  \n",
       "5          12.0  \n",
       "6          13.0  \n",
       "7           7.0  \n",
       "8           8.0  \n",
       "9           9.0  "
      ]
     },
     "execution_count": 6,
     "metadata": {},
     "output_type": "execute_result"
    }
   ],
   "source": [
    "scout[[\"Time_Delta\",'Time_DeltaN1','Time_DeltaN2', 'Time_DeltaN3', 'Time_DeltaN4', 'Time_DeltaN5']].head(10)"
   ]
  },
  {
   "cell_type": "code",
   "execution_count": 7,
   "metadata": {},
   "outputs": [
    {
     "data": {
      "text/plain": [
       "Play               23778\n",
       "Puck Recovery      20667\n",
       "Incomplete Play     8890\n",
       "Zone Entry          6362\n",
       "Dump In/Out         4888\n",
       "Shot                4887\n",
       "Takeaway            3248\n",
       "Faceoff Win         2441\n",
       "Penalty Taken        419\n",
       "Goal                 293\n",
       "Name: Event, dtype: int64"
      ]
     },
     "execution_count": 7,
     "metadata": {},
     "output_type": "execute_result"
    }
   ],
   "source": [
    "scout['Event'].value_counts()"
   ]
  },
  {
   "cell_type": "code",
   "execution_count": 8,
   "metadata": {},
   "outputs": [
    {
     "data": {
      "text/plain": [
       "Play               1411\n",
       "Incomplete Play     670\n",
       "Dump In/Out         373\n",
       "Zone Entry          236\n",
       "Puck Recovery       224\n",
       "Shot                120\n",
       "Takeaway            115\n",
       "Penalty Taken        55\n",
       "Faceoff Win          38\n",
       "Goal                  6\n",
       "Name: next_event, dtype: int64"
      ]
     },
     "execution_count": 8,
     "metadata": {},
     "output_type": "execute_result"
    }
   ],
   "source": [
    "#Next event after Takeaway\n",
    "one_next = scout.loc[scout['Event'] == 'Takeaway', 'next_event']\n",
    "one_next.value_counts()"
   ]
  },
  {
   "cell_type": "code",
   "execution_count": 9,
   "metadata": {},
   "outputs": [
    {
     "data": {
      "text/plain": [
       "Puck Recovery      982\n",
       "Play               801\n",
       "Zone Entry         397\n",
       "Incomplete Play    323\n",
       "Takeaway           209\n",
       "Shot               199\n",
       "Dump In/Out        189\n",
       "Faceoff Win        121\n",
       "Goal                15\n",
       "Penalty Taken       12\n",
       "Name: 2next_event, dtype: int64"
      ]
     },
     "execution_count": 9,
     "metadata": {},
     "output_type": "execute_result"
    }
   ],
   "source": [
    "#create two events after takeaway\n",
    "scout['2next_event'] = scout['Event'].shift(-2)\n",
    "scout['2next_x'] = scout['next_x'].shift(-2)\n",
    "scout['2next_y'] = scout['next_y'].shift(-2)\n",
    "two_next = scout.loc[scout['Event'] == 'Takeaway', '2next_event']\n",
    "two_next.value_counts()"
   ]
  },
  {
   "cell_type": "code",
   "execution_count": 10,
   "metadata": {},
   "outputs": [
    {
     "data": {
      "text/plain": [
       "Play               998\n",
       "Puck Recovery      867\n",
       "Incomplete Play    388\n",
       "Zone Entry         310\n",
       "Shot               238\n",
       "Dump In/Out        184\n",
       "Takeaway           133\n",
       "Faceoff Win        102\n",
       "Penalty Taken       15\n",
       "Goal                13\n",
       "Name: 3next_event, dtype: int64"
      ]
     },
     "execution_count": 10,
     "metadata": {},
     "output_type": "execute_result"
    }
   ],
   "source": [
    "#Three events after Takeaway\n",
    "scout['3next_event'] = scout['Event'].shift(-3)\n",
    "scout['3next_x'] = scout['next_x'].shift(-3)\n",
    "scout['3next_y'] = scout['next_y'].shift(-3)\n",
    "three_next = scout.loc[scout['Event'] == 'Takeaway', '3next_event']\n",
    "three_next.value_counts()"
   ]
  },
  {
   "cell_type": "code",
   "execution_count": 11,
   "metadata": {},
   "outputs": [
    {
     "data": {
      "text/plain": [
       "Play               1024\n",
       "Puck Recovery       911\n",
       "Incomplete Play     345\n",
       "Zone Entry          272\n",
       "Dump In/Out         210\n",
       "Shot                208\n",
       "Takeaway            131\n",
       "Faceoff Win         115\n",
       "Goal                 16\n",
       "Penalty Taken        16\n",
       "Name: 4next_event, dtype: int64"
      ]
     },
     "execution_count": 11,
     "metadata": {},
     "output_type": "execute_result"
    }
   ],
   "source": [
    "#Four events after takeaway\n",
    "scout['4next_event'] = scout['Event'].shift(-4)\n",
    "scout['4next_x'] = scout['next_x'].shift(-4)\n",
    "scout['4next_y'] = scout['next_y'].shift(-4)\n",
    "four_next = scout.loc[scout['Event'] == 'Takeaway', '4next_event']\n",
    "four_next.value_counts()"
   ]
  },
  {
   "cell_type": "code",
   "execution_count": 12,
   "metadata": {},
   "outputs": [
    {
     "data": {
      "text/plain": [
       "Play               1002\n",
       "Puck Recovery       838\n",
       "Incomplete Play     413\n",
       "Zone Entry          304\n",
       "Dump In/Out         211\n",
       "Shot                196\n",
       "Takeaway            138\n",
       "Faceoff Win         118\n",
       "Penalty Taken        17\n",
       "Goal                 11\n",
       "Name: 5next_event, dtype: int64"
      ]
     },
     "execution_count": 12,
     "metadata": {},
     "output_type": "execute_result"
    }
   ],
   "source": [
    "#Five events after takeaway\n",
    "scout['5next_event'] = scout['Event'].shift(-5)\n",
    "scout['5next_x'] = scout['next_x'].shift(-5)\n",
    "scout['5next_y'] = scout['next_y'].shift(-5)\n",
    "five_next = scout.loc[scout['Event'] == 'Takeaway', '5next_event']\n",
    "five_next.value_counts()"
   ]
  },
  {
   "cell_type": "code",
   "execution_count": 14,
   "metadata": {},
   "outputs": [
    {
     "data": {
      "text/plain": [
       "2.0    2\n",
       "5.0    1\n",
       "3.0    1\n",
       "0.0    1\n",
       "1.0    1\n",
       "Name: Time_DeltaN1, dtype: int64"
      ]
     },
     "execution_count": 14,
     "metadata": {},
     "output_type": "execute_result"
    }
   ],
   "source": [
    "#Time one event after takeaway leading to a goal\n",
    "next_goaltime = scout.loc[(scout['Event'] == 'Takeaway') & (scout['next_event'] == 'Goal'),'Time_DeltaN1']\n",
    "next_goaltime.value_counts()"
   ]
  },
  {
   "cell_type": "code",
   "execution_count": 15,
   "metadata": {},
   "outputs": [
    {
     "data": {
      "text/plain": [
       "Zone Entry    8\n",
       "Play          7\n",
       "Name: next_event, dtype: int64"
      ]
     },
     "execution_count": 15,
     "metadata": {},
     "output_type": "execute_result"
    }
   ],
   "source": [
    "#Look for events that lead to goal\n",
    "#1 Event: Would just be the goal, so I'd need the x-y position from where it was taken, to takeaway position\n",
    "#2 Event: Same as above, but would need 1-event position\n",
    "twonext_goal = scout.loc[(scout['Event'] == 'Takeaway') & (scout['2next_event'] == 'Goal'),'next_event']\n",
    "twonext_goal.value_counts()"
   ]
  },
  {
   "cell_type": "code",
   "execution_count": 16,
   "metadata": {},
   "outputs": [
    {
     "data": {
      "text/plain": [
       "3.0    6\n",
       "2.0    5\n",
       "5.0    2\n",
       "5.0    1\n",
       "6.0    1\n",
       "Name: Time_DeltaN2, dtype: int64"
      ]
     },
     "execution_count": 16,
     "metadata": {},
     "output_type": "execute_result"
    }
   ],
   "source": [
    "#Time two events after takeaway leading to a goal\n",
    "twonext_goaltime = scout.loc[(scout['Event'] == 'Takeaway') & (scout['2next_event'] == 'Goal'),'Time_DeltaN2']\n",
    "twonext_goaltime.value_counts()"
   ]
  },
  {
   "cell_type": "code",
   "execution_count": 19,
   "metadata": {},
   "outputs": [
    {
     "data": {
      "text/plain": [
       "next_event     2next_event\n",
       "Play           Zone Entry     7\n",
       "Zone Entry     Play           2\n",
       "Puck Recovery  Play           1\n",
       "Play           Play           1\n",
       "dtype: int64"
      ]
     },
     "execution_count": 19,
     "metadata": {},
     "output_type": "execute_result"
    }
   ],
   "source": [
    "#Similar logic for goals that occur 3-5 events after takeaways + time occurrences in seconds\n",
    "#Had to take away Takeaway goals from opposing team to avoid redundant data\n",
    "threenext_goal = scout.loc[(scout['Event'] == 'Takeaway') & (scout['2next_event'] != 'Takeaway') &\n",
    "                           (scout['3next_event'] == 'Goal'),  ['next_event','2next_event']]\n",
    "threenext_goal.value_counts()"
   ]
  },
  {
   "cell_type": "code",
   "execution_count": 20,
   "metadata": {},
   "outputs": [
    {
     "data": {
      "text/plain": [
       "4.0     3\n",
       "5.0     2\n",
       "3.0     2\n",
       "6.0     1\n",
       "12.0    1\n",
       "7.0     1\n",
       "6.0     1\n",
       "Name: Time_DeltaN3, dtype: int64"
      ]
     },
     "execution_count": 20,
     "metadata": {},
     "output_type": "execute_result"
    }
   ],
   "source": [
    "threenext_goaltime = scout.loc[(scout['Event'] == 'Takeaway') & (scout['2next_event'] != 'Takeaway') &\n",
    "                               (scout['3next_event'] == 'Goal'),'Time_DeltaN3']\n",
    "threenext_goaltime.value_counts()"
   ]
  },
  {
   "cell_type": "code",
   "execution_count": 21,
   "metadata": {},
   "outputs": [
    {
     "data": {
      "text/plain": [
       "next_event  2next_event  3next_event  \n",
       "Play        Zone Entry   Play             5\n",
       "            Play         Zone Entry       4\n",
       "Zone Entry  Play         Play             3\n",
       "Play        Play         Play             2\n",
       "Zone Entry  Shot         Puck Recovery    1\n",
       "dtype: int64"
      ]
     },
     "execution_count": 21,
     "metadata": {},
     "output_type": "execute_result"
    }
   ],
   "source": [
    "fournext_goal = scout.loc[(scout['Event'] == 'Takeaway') & (scout['2next_event'] != 'Takeaway') &\n",
    "                          (scout['4next_event'] == 'Goal'), ['next_event', '2next_event', '3next_event']]\n",
    "fournext_goal.value_counts()"
   ]
  },
  {
   "cell_type": "code",
   "execution_count": 22,
   "metadata": {},
   "outputs": [
    {
     "data": {
      "text/plain": [
       "6.0     4\n",
       "8.0     2\n",
       "4.0     2\n",
       "5.0     2\n",
       "7.0     2\n",
       "2.0     1\n",
       "10.0    1\n",
       "7.0     1\n",
       "Name: Time_DeltaN4, dtype: int64"
      ]
     },
     "execution_count": 22,
     "metadata": {},
     "output_type": "execute_result"
    }
   ],
   "source": [
    "fournext_goaltime = scout.loc[(scout['Event'] == 'Takeaway') & (scout['2next_event'] != 'Takeaway') &\n",
    "                              (scout['4next_event'] == 'Goal'),'Time_DeltaN4']\n",
    "fournext_goaltime.value_counts()"
   ]
  },
  {
   "cell_type": "code",
   "execution_count": 23,
   "metadata": {},
   "outputs": [
    {
     "data": {
      "text/plain": [
       "next_event       2next_event  3next_event    4next_event  \n",
       "Play             Zone Entry   Play           Play             2\n",
       "                 Play         Zone Entry     Play             2\n",
       "Zone Entry       Play         Shot           Puck Recovery    1\n",
       "                              Play           Play             1\n",
       "Play             Play         Play           Play             1\n",
       "Incomplete Play  Faceoff Win  Puck Recovery  Play             1\n",
       "dtype: int64"
      ]
     },
     "execution_count": 23,
     "metadata": {},
     "output_type": "execute_result"
    }
   ],
   "source": [
    "fivenext_goal = scout.loc[(scout['Event'] == 'Takeaway') & (scout['2next_event'] != 'Takeaway') &\n",
    "                          (scout['3next_event'] != 'Takeaway') & (scout['4next_event'] != 'Takeaway') &\n",
    "                          (scout['5next_event'] == 'Goal'), ['next_event', '2next_event', '3next_event', '4next_event']]\n",
    "fivenext_goal.value_counts()"
   ]
  },
  {
   "cell_type": "code",
   "execution_count": 24,
   "metadata": {},
   "outputs": [
    {
     "data": {
      "text/plain": [
       "7.0     3\n",
       "8.0     2\n",
       "14.0    1\n",
       "5.0     1\n",
       "Name: Time_DeltaN5, dtype: int64"
      ]
     },
     "execution_count": 24,
     "metadata": {},
     "output_type": "execute_result"
    }
   ],
   "source": [
    "fivenext_goaltime = scout.loc[(scout['Event'] == 'Takeaway') & (scout['2next_event'] != 'Takeaway') & (scout['2next_event'] != 'Faceoff Win') &\n",
    "                          (scout['3next_event'] != 'Takeaway') & (scout['4next_event'] != 'Takeaway') &\n",
    "                              (scout['5next_event'] == 'Goal'),'Time_DeltaN5']\n",
    "fivenext_goaltime.value_counts()"
   ]
  },
  {
   "cell_type": "code",
   "execution_count": null,
   "metadata": {},
   "outputs": [],
   "source": []
  }
 ],
 "metadata": {
  "kernelspec": {
   "display_name": "Python 3",
   "language": "python",
   "name": "python3"
  },
  "language_info": {
   "codemirror_mode": {
    "name": "ipython",
    "version": 3
   },
   "file_extension": ".py",
   "mimetype": "text/x-python",
   "name": "python",
   "nbconvert_exporter": "python",
   "pygments_lexer": "ipython3",
   "version": "3.8.5"
  }
 },
 "nbformat": 4,
 "nbformat_minor": 4
}
